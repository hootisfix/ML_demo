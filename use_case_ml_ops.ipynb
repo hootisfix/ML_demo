{
 "cells": [
  {
   "cell_type": "markdown",
   "metadata": {},
   "source": [
    "# Use case ML devops "
   ]
  },
  {
   "cell_type": "markdown",
   "metadata": {},
   "source": [
    "## Problem :\n",
    "- We have several ML pipeline to put into production.\n",
    "- We need real time and auto scaling from the user point of view.\n",
    "- We need robust CI/CD for robust deployment. \n",
    "- We need deployment easyness ( if we want to change part of the pipeline it should be easy ).\n",
    "- We need different types of instance as the pipeline are not consuming the same RAM or CPU ressources.\n",
    "- We need efficient monitoring. \n",
    "- We need efficient restart.\n",
    "- We need some security layer in case. \n",
    "- We need ddos protection.\n",
    "\n",
    "The ML pipelines are the foolowing :\n",
    "- Structured_datas : \n",
    "    - Request from front end with an id .\n",
    "    - Fetching data matching this ID in DB_BACKUP.\n",
    "    - laoding preprocessors ( standard scaler for exmaple) ( pkl fromat).\n",
    "    - preprocess data.\n",
    "    - model inference ( model : model_structured_data).\n",
    "    - update DB_PROD with model result.\n",
    " \n",
    " - Non structured data Images : \n",
    "    - Received a link.\n",
    "    - download image corresponding to link.\n",
    "    - save image.\n",
    "    - preprocess image.\n",
    "    - model inference on the image ( model : model_image) ( big cpu instances).\n",
    "    - update DB_PROD.\n",
    "    \n",
    "  - Non structured active learning data Images : \n",
    "    - Received a batch of ids.\n",
    "    - download all images coresponding to the ids.\n",
    "    - preprocess on the batch of images.\n",
    "    - model inference on the batch of image ( model : model_image) ( GPU instances).\n",
    "    - store images_score into DB_ML.\n",
    "    - sample image with strategy_sampling ( strategy_sampling : strat_sampling).\n",
    "    - retrain model an all sampling + trained data.\n",
    "    - evaluating result.\n",
    "    - push new model to prod. \n",
    "    \n",
    "    "
   ]
  },
  {
   "cell_type": "markdown",
   "metadata": {},
   "source": [
    "# Could you please design an architecture that will support the 3 pipelines and cope with all requirements \n",
    "- We will be very attentive :\n",
    "    - CI / CD strategy\n",
    "    - deployment stretegy \n",
    "    - instance management strategy\n",
    "    - packaging strategy\n",
    " You can pick any system, anything you think it is useful to cope with our issue\n",
    "    "
   ]
  },
  {
   "cell_type": "markdown",
   "metadata": {},
   "source": [
    "# 3 Please design an architecture to monitor ML models in production\n",
    " - you can use whatever you want we would like a detailed functionement of the 3 followiung steps :\n",
    " - model put into prod\n",
    " - model updated\n",
    " - model evaluation before new version put into prod\n"
   ]
  },
  {
   "cell_type": "markdown",
   "metadata": {},
   "source": [
    "# Logic exercices"
   ]
  },
  {
   "cell_type": "markdown",
   "metadata": {
    "ExecuteTime": {
     "end_time": "2021-01-08T17:14:46.974834Z",
     "start_time": "2021-01-08T17:14:46.969931Z"
    }
   },
   "source": [
    "\n",
    "3.1  Sampling\n",
    "\n",
    "    Write a method that shuffle a deck of card. It must be a perfect shuffle - in other words each 52! permutations of the deck has to be equally likely. Assume you are given a perfect random number generator\n",
    "\n"
   ]
  },
  {
   "cell_type": "markdown",
   "metadata": {},
   "source": [
    "3.2  Distance\n",
    "\n",
    "    Given an array filled with letters and numbers , finde the longest subarray with equal number of letters and numbers\n"
   ]
  }
 ],
 "metadata": {
  "kernelspec": {
   "display_name": "Python 3",
   "language": "python",
   "name": "python3"
  },
  "language_info": {
   "codemirror_mode": {
    "name": "ipython",
    "version": 3
   },
   "file_extension": ".py",
   "mimetype": "text/x-python",
   "name": "python",
   "nbconvert_exporter": "python",
   "pygments_lexer": "ipython3",
   "version": "3.8.6"
  },
  "toc": {
   "base_numbering": 1,
   "nav_menu": {},
   "number_sections": true,
   "sideBar": true,
   "skip_h1_title": false,
   "title_cell": "Table of Contents",
   "title_sidebar": "Contents",
   "toc_cell": false,
   "toc_position": {},
   "toc_section_display": true,
   "toc_window_display": false
  }
 },
 "nbformat": 4,
 "nbformat_minor": 2
}
